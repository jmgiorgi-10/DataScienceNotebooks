{
 "cells": [
  {
   "cell_type": "code",
   "execution_count": 3,
   "id": "4f825208-92f4-4fcc-9121-79a5c766afc5",
   "metadata": {},
   "outputs": [
    {
     "data": {
      "text/plain": [
       "Index(['Time', 'V1', 'V2', 'V3', 'V4', 'V5', 'V6', 'V7', 'V8', 'V9', 'V10',\n",
       "       'V11', 'V12', 'V13', 'V14', 'V15', 'V16', 'V17', 'V18', 'V19', 'V20',\n",
       "       'V21', 'V22', 'V23', 'V24', 'V25', 'V26', 'V27', 'V28', 'Amount',\n",
       "       'Class'],\n",
       "      dtype='object')"
      ]
     },
     "execution_count": 3,
     "metadata": {},
     "output_type": "execute_result"
    }
   ],
   "source": [
    "import pandas as pd\n",
    "\n",
    "credit_data = pd.read_csv(\"creditcard.csv\")\n",
    "credit_data.columns"
   ]
  },
  {
   "cell_type": "code",
   "execution_count": 4,
   "id": "4da9387b-d583-435d-a624-ed2d0feb9bb2",
   "metadata": {},
   "outputs": [],
   "source": [
    "from sklearn.model_selection import train_test_split\n",
    "\n",
    "features = ['V1', 'V2', 'V3', 'V4', 'V5', 'V6', 'V7', 'V8', 'V9', 'V10','V11', 'V12', 'V13', 'V14', 'V15', 'V16', 'V17', 'V18', 'V19', 'V20','V21', 'V22', 'V23', 'V24', 'V25', 'V26', 'V27', 'V28']\n",
    "y = credit_data.Class\n",
    "X = credit_data[features]\n",
    "\n",
    "train_X, val_X, train_y, val_y = train_test_split(X, y, random_state=1)"
   ]
  },
  {
   "cell_type": "code",
   "execution_count": null,
   "id": "d111e0b3-26d4-4d9f-b533-1c79cce54446",
   "metadata": {},
   "outputs": [],
   "source": [
    "# define the support vector classifier\n",
    "from sklearn.svm import SVC\n",
    "\n",
    "svc = SVC(kernel='linear', random_state=1)\n",
    "\n",
    "# fit classifier to training data\n",
    "svc.fit(train_X, train_y)"
   ]
  },
  {
   "cell_type": "code",
   "execution_count": null,
   "id": "90934916-0857-43b3-85dc-80580f077a64",
   "metadata": {},
   "outputs": [],
   "source": [
    "# evaluation \n",
    "predictions = svc.predict(val_X)"
   ]
  },
  {
   "cell_type": "code",
   "execution_count": null,
   "id": "cc8bf614-9a19-4bd6-8841-3670a33c7fa5",
   "metadata": {},
   "outputs": [],
   "source": [
    "# determine accuracy on val data\n",
    "from sklearn.metrics import accuracy_score, precision_score, recall_score\n",
    "\n",
    "accuracy = accuracy_score(val_y, predictions)\n",
    "print(f\"Test Accuracy: {accuracy:.4f}\")"
   ]
  },
  {
   "cell_type": "code",
   "execution_count": null,
   "id": "bb197dac-3aaf-4490-aa4d-adc11b199460",
   "metadata": {},
   "outputs": [],
   "source": [
    "precision = precision_score(val_y, predictions)\n",
    "print(f\"Test Precision: {precision:.4f}\")"
   ]
  },
  {
   "cell_type": "code",
   "execution_count": null,
   "id": "5fa59ad3-ba1d-4929-9f0a-bfd55a7f5981",
   "metadata": {},
   "outputs": [],
   "source": [
    "recall = recall_score(val_y, predictions)\n",
    "print(f\"Test Recall: {recall:.4f}\")"
   ]
  }
 ],
 "metadata": {
  "kernelspec": {
   "display_name": "Python 3 (ipykernel)",
   "language": "python",
   "name": "python3"
  },
  "language_info": {
   "codemirror_mode": {
    "name": "ipython",
    "version": 3
   },
   "file_extension": ".py",
   "mimetype": "text/x-python",
   "name": "python",
   "nbconvert_exporter": "python",
   "pygments_lexer": "ipython3",
   "version": "3.13.2"
  }
 },
 "nbformat": 4,
 "nbformat_minor": 5
}
